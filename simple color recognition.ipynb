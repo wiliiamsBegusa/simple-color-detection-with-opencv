{
 "cells": [
  {
   "cell_type": "code",
   "execution_count": null,
   "metadata": {},
   "outputs": [],
   "source": [
    "import cv2\n",
    "\n",
    "cap = cv2.VideoCapture(0)\n",
    "cap.set(cv2.CAP_PROP_FRAME_WIDTH,1280)\n",
    "cap.set(cv2.CAP_PROP_FRAME_HEIGHT,720)\n",
    "\n",
    "while True:\n",
    "    _, frame = cap.read()\n",
    "    hsv_frame = cv2.cvtColor(frame,cv2.COLOR_BGR2HSV)\n",
    "    height,width,_ = frame.shape\n",
    "    \n",
    "    cx = int(width/2)\n",
    "    cy = int(height/2)\n",
    "    \n",
    "    #pick pixel center\n",
    "    pixel_center = hsv_frame[cy,cx]\n",
    "    hue_value = pixel_center[0]\n",
    "    \n",
    "    color = \"UNDEFINED\"\n",
    "    if hue_value>5 and hue_value<18:\n",
    "        color = \"ORANGE\"\n",
    "    elif hue_value>28 and hue_value<35:\n",
    "        color = \"YELLOW\"\n",
    "    elif hue_value>40 and hue_value<80:\n",
    "        color = \"GREEN\"\n",
    "    elif hue_value>90 and hue_value<130:\n",
    "        color = \"BLUE\"\n",
    "    elif hue_value>135 and hue_value<148:\n",
    "        color = \"PURPLE\"\n",
    "    elif hue_value>148 and hue_value<165:\n",
    "        color = \"PINK\"\n",
    "    elif hue_value>176:\n",
    "        color= \"VIOLET\"\n",
    "    else:\n",
    "        color = \"RED\"\n",
    "        \n",
    "    pixel_center_bgr = frame[cy,cx]\n",
    "    b,g,r = int(pixel_center_bgr[0]),int(pixel_center_bgr[1]),int(pixel_center_bgr[2])\n",
    "    cv2.putText(frame,color,(10,50),0,1,(b,g,r),2)\n",
    "    cv2.circle(frame,(cx, cy), 5, (25,25,25),6)\n",
    "    \n",
    "    cv2.imshow('Frame',frame)\n",
    "    key = cv2.waitKey(1)\n",
    "    if key == ord('a'):\n",
    "        break\n",
    "cap.release()\n",
    "cv2.destroyAllWindows()"
   ]
  },
  {
   "cell_type": "code",
   "execution_count": null,
   "metadata": {},
   "outputs": [],
   "source": []
  },
  {
   "cell_type": "code",
   "execution_count": null,
   "metadata": {},
   "outputs": [],
   "source": []
  }
 ],
 "metadata": {
  "kernelspec": {
   "display_name": "Python 3",
   "language": "python",
   "name": "python3"
  },
  "language_info": {
   "codemirror_mode": {
    "name": "ipython",
    "version": 3
   },
   "file_extension": ".py",
   "mimetype": "text/x-python",
   "name": "python",
   "nbconvert_exporter": "python",
   "pygments_lexer": "ipython3",
   "version": "3.7.6"
  }
 },
 "nbformat": 4,
 "nbformat_minor": 4
}
